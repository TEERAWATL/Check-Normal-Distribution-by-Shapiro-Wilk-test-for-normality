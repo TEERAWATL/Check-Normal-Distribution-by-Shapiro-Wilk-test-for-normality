{
 "cells": [
  {
   "cell_type": "markdown",
   "id": "af9e7a9e",
   "metadata": {},
   "source": [
    "# Check Normal Distribution by Shapiro-Wilk test for normality"
   ]
  },
  {
   "cell_type": "code",
   "execution_count": 5,
   "id": "4ce423cb",
   "metadata": {},
   "outputs": [],
   "source": [
    "import numpy as np\n",
    "import pandas as pd\n",
    "import matplotlib.pyplot as plt\n",
    "from scipy import stats"
   ]
  },
  {
   "cell_type": "code",
   "execution_count": 2,
   "id": "9addd1a4",
   "metadata": {},
   "outputs": [
    {
     "data": {
      "text/html": [
       "<div>\n",
       "<style scoped>\n",
       "    .dataframe tbody tr th:only-of-type {\n",
       "        vertical-align: middle;\n",
       "    }\n",
       "\n",
       "    .dataframe tbody tr th {\n",
       "        vertical-align: top;\n",
       "    }\n",
       "\n",
       "    .dataframe thead th {\n",
       "        text-align: right;\n",
       "    }\n",
       "</style>\n",
       "<table border=\"1\" class=\"dataframe\">\n",
       "  <thead>\n",
       "    <tr style=\"text-align: right;\">\n",
       "      <th></th>\n",
       "      <th>data</th>\n",
       "    </tr>\n",
       "  </thead>\n",
       "  <tbody>\n",
       "    <tr>\n",
       "      <th>0</th>\n",
       "      <td>67.640523</td>\n",
       "    </tr>\n",
       "    <tr>\n",
       "      <th>1</th>\n",
       "      <td>54.001572</td>\n",
       "    </tr>\n",
       "    <tr>\n",
       "      <th>2</th>\n",
       "      <td>59.787380</td>\n",
       "    </tr>\n",
       "    <tr>\n",
       "      <th>3</th>\n",
       "      <td>72.408932</td>\n",
       "    </tr>\n",
       "    <tr>\n",
       "      <th>4</th>\n",
       "      <td>68.675580</td>\n",
       "    </tr>\n",
       "    <tr>\n",
       "      <th>...</th>\n",
       "      <td>...</td>\n",
       "    </tr>\n",
       "    <tr>\n",
       "      <th>995</th>\n",
       "      <td>54.128708</td>\n",
       "    </tr>\n",
       "    <tr>\n",
       "      <th>996</th>\n",
       "      <td>48.016011</td>\n",
       "    </tr>\n",
       "    <tr>\n",
       "      <th>997</th>\n",
       "      <td>50.941923</td>\n",
       "    </tr>\n",
       "    <tr>\n",
       "      <th>998</th>\n",
       "      <td>38.523891</td>\n",
       "    </tr>\n",
       "    <tr>\n",
       "      <th>999</th>\n",
       "      <td>46.418859</td>\n",
       "    </tr>\n",
       "  </tbody>\n",
       "</table>\n",
       "<p>1000 rows × 1 columns</p>\n",
       "</div>"
      ],
      "text/plain": [
       "          data\n",
       "0    67.640523\n",
       "1    54.001572\n",
       "2    59.787380\n",
       "3    72.408932\n",
       "4    68.675580\n",
       "..         ...\n",
       "995  54.128708\n",
       "996  48.016011\n",
       "997  50.941923\n",
       "998  38.523891\n",
       "999  46.418859\n",
       "\n",
       "[1000 rows x 1 columns]"
      ]
     },
     "execution_count": 2,
     "metadata": {},
     "output_type": "execute_result"
    }
   ],
   "source": [
    "np.random.seed(0)\n",
    "data = np.random.normal(50, 10, 1000)\n",
    "df = pd.DataFrame({'data': data})\n",
    "df"
   ]
  },
  {
   "cell_type": "markdown",
   "id": "63733bb3",
   "metadata": {},
   "source": [
    "### Hypotesis:\n",
    "\n",
    "H0: The data is normally distributed\n",
    "\n",
    "Ha: The data is not normally distributed"
   ]
  },
  {
   "cell_type": "code",
   "execution_count": 3,
   "id": "aa01cdd1",
   "metadata": {},
   "outputs": [
    {
     "name": "stdout",
     "output_type": "stream",
     "text": [
      "Statistics=0.999, p=0.591\n",
      "Sample looks Gaussian (fail to reject H0)\n",
      "\n",
      "The data is normally distributed\n"
     ]
    }
   ],
   "source": [
    "stat, p = stats.shapiro(df)\n",
    "\n",
    "print('Statistics=%.3f, p=%.3f' % (stat, p))\n",
    "\n",
    "alpha = 0.05\n",
    "if p > alpha:\n",
    "    print(\"Sample looks Gaussian (fail to reject H0)\")\n",
    "    print('\\nThe data is normally distributed')\n",
    "else:\n",
    "    print(\"Sample does not look Gaussian (reject H0)\")\n",
    "    print('\\nThe data is not normally distributed')"
   ]
  },
  {
   "cell_type": "code",
   "execution_count": 4,
   "id": "6d4f83d6",
   "metadata": {},
   "outputs": [
    {
     "data": {
      "image/png": "[encoded data removed]",
      "text/plain": [
       "<Figure size 640x480 with 1 Axes>"
      ]
     },
     "metadata": {},
     "output_type": "display_data"
    }
   ],
   "source": [
    "# Plot a histogram\n",
    "plt.hist(df['data'], bins=50, density=True, alpha=0.6, color='g')\n",
    "\n",
    "# Plot the normal distribution cruve \n",
    "mu, std = stats.norm.fit(df['data'])\n",
    "xmin, xmax = plt.xlim()\n",
    "x = np.linspace(xmin, xmax, 100)\n",
    "p = stats.norm.pdf(x, mu, std)\n",
    "plt.plot(x, p, 'k', linewidth=2)\n",
    "\n",
    "plt.show()"
   ]
  }
 ],
 "metadata": {
  "kernelspec": {
   "display_name": "Python 3 (ipykernel)",
   "language": "python",
   "name": "python3"
  },
  "language_info": {
   "codemirror_mode": {
    "name": "ipython",
    "version": 3
   },
   "file_extension": ".py",
   "mimetype": "text/x-python",
   "name": "python",
   "nbconvert_exporter": "python",
   "pygments_lexer": "ipython3",
   "version": "3.9.15"
  }
 },
 "nbformat": 4,
 "nbformat_minor": 5
}
